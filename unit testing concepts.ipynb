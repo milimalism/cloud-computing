{
 "cells": [
  {
   "cell_type": "markdown",
   "metadata": {},
   "source": [
    "#### given function"
   ]
  },
  {
   "cell_type": "code",
   "execution_count": 1,
   "metadata": {},
   "outputs": [],
   "source": [
    "def increment(x):\n",
    "    return x + 1\n",
    "\n",
    "def test_increment():\n",
    "    #Catch failures with try/except\n",
    "    try:\n",
    "        assert increment(3) == 4\n",
    "        assert increment(5) == 6, \"Increment failed\"\n",
    "        assert increment(-2) == -1 \n",
    "    except AssertionError:\n",
    "        print(\"Incrementing negative number failed\")\n",
    "        "
   ]
  },
  {
   "cell_type": "markdown",
   "metadata": {},
   "source": [
    "#### function 1"
   ]
  },
  {
   "cell_type": "code",
   "execution_count": 2,
   "metadata": {},
   "outputs": [],
   "source": [
    "test_increment()"
   ]
  },
  {
   "cell_type": "code",
   "execution_count": 3,
   "metadata": {},
   "outputs": [],
   "source": [
    "def multiply_by_two(number):\n",
    "    return number * 2\n",
    "\n",
    "def test_multiply_by_two():\n",
    "    try:\n",
    "        assert multiply_by_two(3) == 6\n",
    "        assert multiply_by_two(0) == 0\n",
    "        assert multiply_by_two(-2) == -4\n",
    "    except AssertionError as e:\n",
    "        print(\"An assertion failed in test_multiply_by_two:\", e)\n",
    "\n",
    "test_multiply_by_two()\n"
   ]
  },
  {
   "cell_type": "markdown",
   "metadata": {},
   "source": [
    "####  function 2"
   ]
  },
  {
   "cell_type": "code",
   "execution_count": 4,
   "metadata": {},
   "outputs": [],
   "source": [
    "def product(num1,num2):\n",
    "    return num1*num2\n",
    "\n",
    "def test_product():\n",
    "    try:\n",
    "        assert product(3,3) == 9\n",
    "        assert product(0, 100) == 0\n",
    "        assert product(4,5) == 20\n",
    "    except AssertionError as e:\n",
    "        print(\"An assertion failed in test_product:\", e)\n",
    "\n",
    "test_product()"
   ]
  },
  {
   "cell_type": "markdown",
   "metadata": {},
   "source": [
    "####  challenge 1"
   ]
  },
  {
   "cell_type": "code",
   "execution_count": 5,
   "metadata": {},
   "outputs": [],
   "source": [
    "def test_increment_parametrized():\n",
    "    test_cases = [(3, 4), (5, 6), (-2, -1)]\n",
    "    for inp, expected in test_cases:\n",
    "        try:\n",
    "            assert increment(inp) == expected\n",
    "        except AssertionError as e:\n",
    "            print(f\"Failed for input {inp}: {e}\")\n",
    "\n",
    "test_increment_parametrized()\n"
   ]
  },
  {
   "cell_type": "markdown",
   "metadata": {},
   "source": [
    "####  challenge 2"
   ]
  },
  {
   "cell_type": "code",
   "execution_count": 6,
   "metadata": {},
   "outputs": [],
   "source": [
    "def test_chain_asserts():\n",
    "    try:\n",
    "        result = increment(5)\n",
    "        assert result == 6\n",
    "        assert result > 0\n",
    "        assert isinstance(result, int)\n",
    "    except AssertionError as e:\n",
    "        print(\"Chain assertion failed:\", e)\n",
    "\n",
    "test_chain_asserts()"
   ]
  },
  {
   "cell_type": "markdown",
   "metadata": {},
   "source": [
    "####  challenge 3"
   ]
  },
  {
   "cell_type": "code",
   "execution_count": 7,
   "metadata": {},
   "outputs": [
    {
     "ename": "NameError",
     "evalue": "name 'decrement' is not defined",
     "output_type": "error",
     "traceback": [
      "\u001b[0;31m---------------------------------------------------------------------------\u001b[0m",
      "\u001b[0;31mNameError\u001b[0m                                 Traceback (most recent call last)",
      "\u001b[0;32m<ipython-input-7-5b25be32362f>\u001b[0m in \u001b[0;36m<module>\u001b[0;34m\u001b[0m\n\u001b[1;32m      9\u001b[0m         \u001b[0mprint\u001b[0m\u001b[0;34m(\u001b[0m\u001b[0;34m\"Custom assert failed:\"\u001b[0m\u001b[0;34m,\u001b[0m \u001b[0me\u001b[0m\u001b[0;34m)\u001b[0m\u001b[0;34m\u001b[0m\u001b[0;34m\u001b[0m\u001b[0m\n\u001b[1;32m     10\u001b[0m \u001b[0;34m\u001b[0m\u001b[0m\n\u001b[0;32m---> 11\u001b[0;31m \u001b[0mtest_custom_assert\u001b[0m\u001b[0;34m(\u001b[0m\u001b[0;34m)\u001b[0m\u001b[0;34m\u001b[0m\u001b[0;34m\u001b[0m\u001b[0m\n\u001b[0m",
      "\u001b[0;32m<ipython-input-7-5b25be32362f>\u001b[0m in \u001b[0;36mtest_custom_assert\u001b[0;34m()\u001b[0m\n\u001b[1;32m      5\u001b[0m     \u001b[0;32mtry\u001b[0m\u001b[0;34m:\u001b[0m\u001b[0;34m\u001b[0m\u001b[0;34m\u001b[0m\u001b[0m\n\u001b[1;32m      6\u001b[0m         \u001b[0massert_greater_than\u001b[0m\u001b[0;34m(\u001b[0m\u001b[0mincrement\u001b[0m\u001b[0;34m(\u001b[0m\u001b[0;36m5\u001b[0m\u001b[0;34m)\u001b[0m\u001b[0;34m,\u001b[0m \u001b[0;36m5\u001b[0m\u001b[0;34m)\u001b[0m\u001b[0;34m\u001b[0m\u001b[0;34m\u001b[0m\u001b[0m\n\u001b[0;32m----> 7\u001b[0;31m         \u001b[0massert_greater_than\u001b[0m\u001b[0;34m(\u001b[0m\u001b[0mdecrement\u001b[0m\u001b[0;34m(\u001b[0m\u001b[0;36m5\u001b[0m\u001b[0;34m)\u001b[0m\u001b[0;34m,\u001b[0m \u001b[0;36m3\u001b[0m\u001b[0;34m)\u001b[0m\u001b[0;34m\u001b[0m\u001b[0;34m\u001b[0m\u001b[0m\n\u001b[0m\u001b[1;32m      8\u001b[0m     \u001b[0;32mexcept\u001b[0m \u001b[0mAssertionError\u001b[0m \u001b[0;32mas\u001b[0m \u001b[0me\u001b[0m\u001b[0;34m:\u001b[0m\u001b[0;34m\u001b[0m\u001b[0;34m\u001b[0m\u001b[0m\n\u001b[1;32m      9\u001b[0m         \u001b[0mprint\u001b[0m\u001b[0;34m(\u001b[0m\u001b[0;34m\"Custom assert failed:\"\u001b[0m\u001b[0;34m,\u001b[0m \u001b[0me\u001b[0m\u001b[0;34m)\u001b[0m\u001b[0;34m\u001b[0m\u001b[0;34m\u001b[0m\u001b[0m\n",
      "\u001b[0;31mNameError\u001b[0m: name 'decrement' is not defined"
     ]
    }
   ],
   "source": [
    "def assert_greater_than(value, threshold):\n",
    "    assert value > threshold, f\"Value {value} is not greater than {threshold}\"\n",
    "\n",
    "def test_custom_assert():\n",
    "    try:\n",
    "        assert_greater_than(increment(5), 5)\n",
    "        assert_greater_than(decrement(5), 3)\n",
    "    except AssertionError as e:\n",
    "        print(\"Custom assert failed:\", e)\n",
    "\n",
    "test_custom_assert()"
   ]
  },
  {
   "cell_type": "markdown",
   "metadata": {},
   "source": [
    "####  challenge 4"
   ]
  },
  {
   "cell_type": "code",
   "execution_count": null,
   "metadata": {},
   "outputs": [],
   "source": [
    "import random\n",
    "\n",
    "def helper_function:\n",
    "    test_data = []\n",
    "    for i in range(5):\n",
    "        point = random.randint(-10, 20)\n",
    "        test_data.append([point, point+1])\n",
    "    return test_data\n",
    "    \n",
    "def parameterised_test_increment_parametrized(test_cases):\n",
    "    for inp, expected in test_cases:\n",
    "        try:\n",
    "            assert increment(inp) == expected\n",
    "        except AssertionError as e:\n",
    "            print(f\"Failed for input {inp}: {e}\")\n",
    "\n",
    "parameterised_test_increment_parametrized(helper_function())\n"
   ]
  },
  {
   "cell_type": "markdown",
   "metadata": {},
   "source": [
    "#### challenge 5"
   ]
  },
  {
   "cell_type": "code",
   "execution_count": null,
   "metadata": {},
   "outputs": [],
   "source": [
    "def divide(a, b):\n",
    "    if b == 0:\n",
    "        raise ZeroDivisionError(\"Cannot divide by zero\")\n",
    "    return a / b\n",
    "\n",
    "def test_divide():\n",
    "    try:\n",
    "        # Test for expected normal behavior\n",
    "        assert divide(10, 2) == 5.0\n",
    "        assert divide(9, 3) == 3.0\n",
    "\n",
    "        # Handle expected exception\n",
    "        try:\n",
    "            divide(10, 0)\n",
    "        except ZeroDivisionError as e:\n",
    "            assert str(e) == \"Cannot divide by zero\"\n",
    "        else:\n",
    "            assert False, \"Expected ZeroDivisionError not raised\"\n",
    "\n",
    "    except AssertionError as e:\n",
    "        print(\"Test failed:\", e)\n",
    "\n",
    "test_divide()\n"
   ]
  }
 ],
 "metadata": {
  "kernelspec": {
   "display_name": "Python 3",
   "language": "python",
   "name": "python3"
  },
  "language_info": {
   "codemirror_mode": {
    "name": "ipython",
    "version": 3
   },
   "file_extension": ".py",
   "mimetype": "text/x-python",
   "name": "python",
   "nbconvert_exporter": "python",
   "pygments_lexer": "ipython3",
   "version": "3.7.6"
  }
 },
 "nbformat": 4,
 "nbformat_minor": 4
}
